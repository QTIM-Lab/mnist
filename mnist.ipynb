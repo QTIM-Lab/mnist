{
 "cells": [
  {
   "cell_type": "markdown",
   "metadata": {},
   "source": [
    "# Mnist\n",
    "[from nextjournal](https://nextjournal.com/gkoehler/pytorch-mnist)"
   ]
  },
  {
   "cell_type": "markdown",
   "metadata": {},
   "source": [
    "## Setup pyenv and poetry\n",
    "```bash\n",
    "# Pyenv\n",
    "pyenv versions # See versions\n",
    "pyenv virtualenv 3.10.4 mnist # If you need to make\n",
    "pyenv activate mnist\n",
    "# Poetry\n",
    "poetry config --list\n",
    "poetry config virtualenvs.in-project false\n",
    "poetry config virtualenvs.create false\n",
    "```"
   ]
  },
  {
   "cell_type": "markdown",
   "metadata": {},
   "source": [
    "> Run or add this to ~/.bashrc if you get error: \"Failed to unlock the collection!\" when trying to install packages."
   ]
  },
  {
   "cell_type": "markdown",
   "metadata": {},
   "source": [
    "```bash\n",
    "export PYTHON_KEYRING_BACKEND=keyring.backends.null.Keyring\n",
    "```"
   ]
  },
  {
   "cell_type": "code",
   "execution_count": 32,
   "metadata": {},
   "outputs": [],
   "source": [
    "import os\n",
    "import torch\n",
    "from torchvision import datasets, transforms\n",
    "import torchvision"
   ]
  },
  {
   "cell_type": "markdown",
   "metadata": {},
   "source": [
    "## Preparing the Dataset"
   ]
  },
  {
   "cell_type": "code",
   "execution_count": 33,
   "metadata": {},
   "outputs": [],
   "source": [
    "DATA_DIR=\"/sddata/data/mnist\"\n",
    "MODEL_DIR=\"/sddata/projects/mnist/model\""
   ]
  },
  {
   "cell_type": "code",
   "execution_count": 34,
   "metadata": {},
   "outputs": [
    {
     "data": {
      "text/plain": [
       "<torch._C.Generator at 0x7fb227510430>"
      ]
     },
     "execution_count": 34,
     "metadata": {},
     "output_type": "execute_result"
    }
   ],
   "source": [
    "n_epochs = 3\n",
    "batch_size_train = 64\n",
    "batch_size_test = 1000\n",
    "learning_rate = 0.01\n",
    "momentum = 0.5\n",
    "log_interval = 10\n",
    "\n",
    "random_seed = 1\n",
    "torch.backends.cudnn.enabled = False\n",
    "torch.manual_seed(random_seed)"
   ]
  },
  {
   "cell_type": "code",
   "execution_count": 35,
   "metadata": {},
   "outputs": [],
   "source": [
    "# Define a data transformation to preprocess the MNIST images\n",
    "transform = transforms.Compose([transforms.ToTensor(), transforms.Normalize((0.1307,), (0.3081,))])\n",
    "\n",
    "# Download the MNIST dataset\n",
    "## Use download=True\n",
    "train_dataset = datasets.MNIST(root=DATA_DIR, train=True, transform=transform, download=False)\n",
    "test_dataset = datasets.MNIST(root=DATA_DIR, train=False, transform=transform, download=False)\n"
   ]
  },
  {
   "cell_type": "code",
   "execution_count": 36,
   "metadata": {},
   "outputs": [],
   "source": [
    "# Create data loaders for training and testing\n",
    "train_loader = torch.utils.data.DataLoader(train_dataset, batch_size=64, shuffle=True)\n",
    "test_loader = torch.utils.data.DataLoader(test_dataset, batch_size=64, shuffle=False)\n"
   ]
  },
  {
   "cell_type": "code",
   "execution_count": 37,
   "metadata": {},
   "outputs": [],
   "source": [
    "# Just to test the actual tutorials method\n",
    "train_loader = torch.utils.data.DataLoader(\n",
    "  torchvision.datasets.MNIST(DATA_DIR, train=True, download=True,\n",
    "                             transform=torchvision.transforms.Compose([\n",
    "                               torchvision.transforms.ToTensor(),\n",
    "                               torchvision.transforms.Normalize(\n",
    "                                 (0.1307,), (0.3081,))\n",
    "                             ])),\n",
    "  batch_size=batch_size_train, shuffle=True)\n",
    "\n",
    "test_loader = torch.utils.data.DataLoader(\n",
    "  torchvision.datasets.MNIST(DATA_DIR, train=False, download=True,\n",
    "                             transform=torchvision.transforms.Compose([\n",
    "                               torchvision.transforms.ToTensor(),\n",
    "                               torchvision.transforms.Normalize(\n",
    "                                 (0.1307,), (0.3081,))\n",
    "                             ])),\n",
    "  batch_size=batch_size_test, shuffle=True)"
   ]
  },
  {
   "cell_type": "markdown",
   "metadata": {},
   "source": [
    "Now let's take a look at some examples. We'll use the test_loader for this."
   ]
  },
  {
   "cell_type": "code",
   "execution_count": 38,
   "metadata": {},
   "outputs": [],
   "source": [
    "examples = enumerate(test_loader)\n",
    "batch_idx, (example_data, example_targets) = next(examples)"
   ]
  },
  {
   "cell_type": "code",
   "execution_count": 39,
   "metadata": {},
   "outputs": [
    {
     "data": {
      "text/plain": [
       "torch.Size([1000, 1, 28, 28])"
      ]
     },
     "execution_count": 39,
     "metadata": {},
     "output_type": "execute_result"
    }
   ],
   "source": [
    "example_data.shape"
   ]
  },
  {
   "cell_type": "code",
   "execution_count": 40,
   "metadata": {},
   "outputs": [
    {
     "data": {
      "image/png": "[encoded data removed]",
      "text/plain": [
       "<Figure size 640x480 with 6 Axes>"
      ]
     },
     "metadata": {},
     "output_type": "display_data"
    }
   ],
   "source": [
    "import matplotlib.pyplot as plt\n",
    "\n",
    "fig = plt.figure()\n",
    "for i in range(6):\n",
    "    plt.subplot(2,3,i+1)\n",
    "    plt.tight_layout()\n",
    "    plt.imshow(example_data[i][0], cmap='gray', interpolation='none')\n",
    "    plt.title(\"Ground Truth: {}\".format(example_targets[i]))\n",
    "    plt.xticks([])\n",
    "    plt.yticks([])\n",
    "# fig"
   ]
  },
  {
   "cell_type": "markdown",
   "metadata": {},
   "source": [
    "## Building the Network"
   ]
  },
  {
   "cell_type": "code",
   "execution_count": 41,
   "metadata": {},
   "outputs": [],
   "source": [
    "import torch.nn as nn\n",
    "import torch.nn.functional as F\n",
    "import torch.optim as optim\n"
   ]
  },
  {
   "cell_type": "code",
   "execution_count": 42,
   "metadata": {},
   "outputs": [],
   "source": [
    "class Net(nn.Module):\n",
    "    def __init__(self):\n",
    "        super(Net, self).__init__()\n",
    "        self.conv1 = nn.Conv2d(1, 10, kernel_size=5)\n",
    "        self.conv2 = nn.Conv2d(10, 20, kernel_size=5)\n",
    "        self.conv2_drop = nn.Dropout2d()\n",
    "        self.fc1 = nn.Linear(320, 50)\n",
    "        self.fc2 = nn.Linear(50, 10)\n",
    "\n",
    "    def forward(self, x):\n",
    "        x = F.relu(F.max_pool2d(self.conv1(x), 2))\n",
    "        x = F.relu(F.max_pool2d(self.conv2_drop(self.conv2(x)), 2))\n",
    "        x = x.view(-1, 320)\n",
    "        x = F.relu(self.fc1(x))\n",
    "        x = F.dropout(x, training=self.training)\n",
    "        x = self.fc2(x)\n",
    "        return F.log_softmax(x)"
   ]
  },
  {
   "cell_type": "markdown",
   "metadata": {},
   "source": [
    "Note: If we were using a GPU for training, we should have also sent the network parameters to the GPU using e.g. ```network.cuda()```. It is important to transfer the network's parameters to the appropriate device before passing them to the optimizer, otherwise the optimizer will not be able to keep track of them in the right way."
   ]
  },
  {
   "cell_type": "code",
   "execution_count": 43,
   "metadata": {},
   "outputs": [],
   "source": [
    "# Check if GPU is available\n",
    "device = torch.device(\"cuda:0\" if torch.cuda.is_available() else \"cpu\")\n",
    "network = Net().to(device)\n",
    "# network.cuda()\n",
    "optimizer = optim.SGD(network.parameters(), lr=learning_rate,\n",
    "                      momentum=momentum)"
   ]
  },
  {
   "cell_type": "markdown",
   "metadata": {},
   "source": [
    "## Training the Model"
   ]
  },
  {
   "cell_type": "code",
   "execution_count": 44,
   "metadata": {},
   "outputs": [],
   "source": [
    "train_losses = []\n",
    "train_counter = []\n",
    "test_losses = []\n",
    "test_counter = [i*len(train_loader.dataset) for i in range(n_epochs + 1)]"
   ]
  },
  {
   "cell_type": "code",
   "execution_count": 45,
   "metadata": {},
   "outputs": [],
   "source": [
    "def train(epoch):\n",
    "    network.train()\n",
    "    for batch_idx, (data, target) in enumerate(train_loader):\n",
    "        optimizer.zero_grad() # zero out gradients since pytorch accumulates gradients\n",
    "        data = data.to(device)\n",
    "        target = target.to(device)\n",
    "        output = network(data) # evaluate\n",
    "        loss = F.nll_loss(output, target) # negative log-likelihood loss btw network output from data and target\n",
    "        loss.backward() # calc gradients\n",
    "        optimizer.step() # back prop gradients\n",
    "        if batch_idx % log_interval == 0:\n",
    "            print('Train Epoch: {} [{}/{} ({:.0f}%)]\\tLoss: {:.6f}'.format(\n",
    "                epoch, batch_idx * len(data), len(train_loader.dataset),\n",
    "                100. * batch_idx / len(train_loader), loss.item()))\n",
    "            train_losses.append(loss.item())\n",
    "            train_counter.append(\n",
    "                (batch_idx*64) + ((epoch-1)*len(train_loader.dataset)))\n",
    "            torch.save(network.state_dict(), os.path.join(MODEL_DIR,'model.pth'))\n",
    "            torch.save(optimizer.state_dict(), os.path.join(MODEL_DIR,'optimizer.pth'))"
   ]
  },
  {
   "cell_type": "markdown",
   "metadata": {},
   "source": [
    "Do a test run to see what accuracy is like with randomly initialized weights:"
   ]
  },
  {
   "cell_type": "code",
   "execution_count": 46,
   "metadata": {},
   "outputs": [
    {
     "name": "stderr",
     "output_type": "stream",
     "text": [
      "/tmp/ipykernel_2097712/161431047.py:17: UserWarning: Implicit dimension choice for log_softmax has been deprecated. Change the call to include dim=X as an argument.\n",
      "  return F.log_softmax(x)\n",
      "/home/bearceb/.pyenv/versions/3.10.4/envs/mnist/lib/python3.10/site-packages/torch/nn/_reduction.py:42: UserWarning: size_average and reduce args will be deprecated, please use reduction='sum' instead.\n",
      "  warnings.warn(warning.format(ret))\n"
     ]
    },
    {
     "name": "stdout",
     "output_type": "stream",
     "text": [
      "\n",
      "Test set: Avg. loss: 2.3096, Accuracy: 924/10000 (9%)\n",
      "\n"
     ]
    }
   ],
   "source": [
    "# import pdb;\n",
    "def test():\n",
    "    network.eval()\n",
    "    test_loss = 0\n",
    "    correct = 0\n",
    "    with torch.no_grad():\n",
    "        for data, target in test_loader:\n",
    "            data = data.to(device)\n",
    "            target = target.to(device)\n",
    "            output = network(data) # evaluate\n",
    "            # print(output)\n",
    "            test_loss += F.nll_loss(output, target, size_average=False).item() # all nll loss\n",
    "            pred = output.data.max(1, keepdim=True)[1] # predictions\n",
    "            correct += pred.eq(target.data.view_as(pred)).sum() # calc correct\n",
    "    test_loss /= len(test_loader.dataset)\n",
    "    test_losses.append(test_loss)\n",
    "    print('\\nTest set: Avg. loss: {:.4f}, Accuracy: {}/{} ({:.0f}%)\\n'.format(\n",
    "      test_loss, correct, len(test_loader.dataset),\n",
    "      100. * correct / len(test_loader.dataset)))\n",
    "\n",
    "test()"
   ]
  },
  {
   "cell_type": "code",
   "execution_count": 47,
   "metadata": {},
   "outputs": [
    {
     "name": "stdout",
     "output_type": "stream",
     "text": [
      "Train Epoch: 1 [0/60000 (0%)]\tLoss: 2.331797\n"
     ]
    },
    {
     "name": "stderr",
     "output_type": "stream",
     "text": [
      "/tmp/ipykernel_2097712/161431047.py:17: UserWarning: Implicit dimension choice for log_softmax has been deprecated. Change the call to include dim=X as an argument.\n",
      "  return F.log_softmax(x)\n"
     ]
    },
    {
     "name": "stdout",
     "output_type": "stream",
     "text": [
      "Train Epoch: 1 [640/60000 (1%)]\tLoss: 2.303324\n",
      "Train Epoch: 1 [1280/60000 (2%)]\tLoss: 2.266475\n",
      "Train Epoch: 1 [1920/60000 (3%)]\tLoss: 2.272787\n",
      "Train Epoch: 1 [2560/60000 (4%)]\tLoss: 2.261453\n",
      "Train Epoch: 1 [3200/60000 (5%)]\tLoss: 2.231299\n",
      "Train Epoch: 1 [3840/60000 (6%)]\tLoss: 2.225890\n",
      "Train Epoch: 1 [4480/60000 (7%)]\tLoss: 2.222582\n",
      "Train Epoch: 1 [5120/60000 (9%)]\tLoss: 2.114448\n",
      "Train Epoch: 1 [5760/60000 (10%)]\tLoss: 2.042787\n",
      "Train Epoch: 1 [6400/60000 (11%)]\tLoss: 1.954830\n",
      "Train Epoch: 1 [7040/60000 (12%)]\tLoss: 1.993595\n",
      "Train Epoch: 1 [7680/60000 (13%)]\tLoss: 1.803929\n",
      "Train Epoch: 1 [8320/60000 (14%)]\tLoss: 1.503854\n",
      "Train Epoch: 1 [8960/60000 (15%)]\tLoss: 1.452519\n",
      "Train Epoch: 1 [9600/60000 (16%)]\tLoss: 1.505873\n",
      "Train Epoch: 1 [10240/60000 (17%)]\tLoss: 1.320353\n",
      "Train Epoch: 1 [10880/60000 (18%)]\tLoss: 1.361758\n",
      "Train Epoch: 1 [11520/60000 (19%)]\tLoss: 1.433705\n",
      "Train Epoch: 1 [12160/60000 (20%)]\tLoss: 1.004369\n",
      "Train Epoch: 1 [12800/60000 (21%)]\tLoss: 1.138128\n",
      "Train Epoch: 1 [13440/60000 (22%)]\tLoss: 1.062882\n",
      "Train Epoch: 1 [14080/60000 (23%)]\tLoss: 1.267802\n",
      "Train Epoch: 1 [14720/60000 (25%)]\tLoss: 0.999930\n",
      "Train Epoch: 1 [15360/60000 (26%)]\tLoss: 0.944273\n",
      "Train Epoch: 1 [16000/60000 (27%)]\tLoss: 0.863275\n",
      "Train Epoch: 1 [16640/60000 (28%)]\tLoss: 0.941471\n",
      "Train Epoch: 1 [17280/60000 (29%)]\tLoss: 0.671509\n",
      "Train Epoch: 1 [17920/60000 (30%)]\tLoss: 0.982369\n",
      "Train Epoch: 1 [18560/60000 (31%)]\tLoss: 0.848436\n",
      "Train Epoch: 1 [19200/60000 (32%)]\tLoss: 0.842953\n",
      "Train Epoch: 1 [19840/60000 (33%)]\tLoss: 0.860847\n",
      "Train Epoch: 1 [20480/60000 (34%)]\tLoss: 0.609787\n",
      "Train Epoch: 1 [21120/60000 (35%)]\tLoss: 0.642100\n",
      "Train Epoch: 1 [21760/60000 (36%)]\tLoss: 0.784619\n",
      "Train Epoch: 1 [22400/60000 (37%)]\tLoss: 1.032081\n",
      "Train Epoch: 1 [23040/60000 (38%)]\tLoss: 0.746287\n",
      "Train Epoch: 1 [23680/60000 (39%)]\tLoss: 0.471960\n",
      "Train Epoch: 1 [24320/60000 (41%)]\tLoss: 0.905444\n",
      "Train Epoch: 1 [24960/60000 (42%)]\tLoss: 0.706131\n",
      "Train Epoch: 1 [25600/60000 (43%)]\tLoss: 0.754949\n",
      "Train Epoch: 1 [26240/60000 (44%)]\tLoss: 0.654673\n",
      "Train Epoch: 1 [26880/60000 (45%)]\tLoss: 0.531337\n",
      "Train Epoch: 1 [27520/60000 (46%)]\tLoss: 0.520160\n",
      "Train Epoch: 1 [28160/60000 (47%)]\tLoss: 0.629750\n",
      "Train Epoch: 1 [28800/60000 (48%)]\tLoss: 0.506048\n",
      "Train Epoch: 1 [29440/60000 (49%)]\tLoss: 0.780509\n",
      "Train Epoch: 1 [30080/60000 (50%)]\tLoss: 0.732593\n",
      "Train Epoch: 1 [30720/60000 (51%)]\tLoss: 0.555772\n",
      "Train Epoch: 1 [31360/60000 (52%)]\tLoss: 0.747857\n",
      "Train Epoch: 1 [32000/60000 (53%)]\tLoss: 0.808509\n",
      "Train Epoch: 1 [32640/60000 (54%)]\tLoss: 0.413568\n",
      "Train Epoch: 1 [33280/60000 (55%)]\tLoss: 0.621255\n",
      "Train Epoch: 1 [33920/60000 (57%)]\tLoss: 0.577008\n",
      "Train Epoch: 1 [34560/60000 (58%)]\tLoss: 0.559699\n",
      "Train Epoch: 1 [35200/60000 (59%)]\tLoss: 0.729529\n",
      "Train Epoch: 1 [35840/60000 (60%)]\tLoss: 0.497573\n",
      "Train Epoch: 1 [36480/60000 (61%)]\tLoss: 0.551152\n",
      "Train Epoch: 1 [37120/60000 (62%)]\tLoss: 0.559825\n",
      "Train Epoch: 1 [37760/60000 (63%)]\tLoss: 0.587124\n",
      "Train Epoch: 1 [38400/60000 (64%)]\tLoss: 0.601153\n",
      "Train Epoch: 1 [39040/60000 (65%)]\tLoss: 0.627112\n",
      "Train Epoch: 1 [39680/60000 (66%)]\tLoss: 0.871755\n",
      "Train Epoch: 1 [40320/60000 (67%)]\tLoss: 0.302012\n",
      "Train Epoch: 1 [40960/60000 (68%)]\tLoss: 0.348510\n",
      "Train Epoch: 1 [41600/60000 (69%)]\tLoss: 0.399369\n",
      "Train Epoch: 1 [42240/60000 (70%)]\tLoss: 0.402945\n",
      "Train Epoch: 1 [42880/60000 (71%)]\tLoss: 0.539767\n",
      "Train Epoch: 1 [43520/60000 (72%)]\tLoss: 0.527341\n",
      "Train Epoch: 1 [44160/60000 (74%)]\tLoss: 0.512040\n",
      "Train Epoch: 1 [44800/60000 (75%)]\tLoss: 0.598696\n",
      "Train Epoch: 1 [45440/60000 (76%)]\tLoss: 0.450045\n",
      "Train Epoch: 1 [46080/60000 (77%)]\tLoss: 0.577144\n",
      "Train Epoch: 1 [46720/60000 (78%)]\tLoss: 0.429667\n",
      "Train Epoch: 1 [47360/60000 (79%)]\tLoss: 0.574414\n",
      "Train Epoch: 1 [48000/60000 (80%)]\tLoss: 0.420192\n",
      "Train Epoch: 1 [48640/60000 (81%)]\tLoss: 0.463919\n",
      "Train Epoch: 1 [49280/60000 (82%)]\tLoss: 0.416028\n",
      "Train Epoch: 1 [49920/60000 (83%)]\tLoss: 0.520290\n",
      "Train Epoch: 1 [50560/60000 (84%)]\tLoss: 0.570412\n",
      "Train Epoch: 1 [51200/60000 (85%)]\tLoss: 0.555784\n",
      "Train Epoch: 1 [51840/60000 (86%)]\tLoss: 0.485504\n",
      "Train Epoch: 1 [52480/60000 (87%)]\tLoss: 0.608818\n",
      "Train Epoch: 1 [53120/60000 (88%)]\tLoss: 0.519745\n",
      "Train Epoch: 1 [53760/60000 (90%)]\tLoss: 0.534438\n",
      "Train Epoch: 1 [54400/60000 (91%)]\tLoss: 0.648473\n",
      "Train Epoch: 1 [55040/60000 (92%)]\tLoss: 0.642351\n",
      "Train Epoch: 1 [55680/60000 (93%)]\tLoss: 0.392547\n",
      "Train Epoch: 1 [56320/60000 (94%)]\tLoss: 0.506637\n",
      "Train Epoch: 1 [56960/60000 (95%)]\tLoss: 0.431163\n",
      "Train Epoch: 1 [57600/60000 (96%)]\tLoss: 0.454071\n",
      "Train Epoch: 1 [58240/60000 (97%)]\tLoss: 0.605228\n",
      "Train Epoch: 1 [58880/60000 (98%)]\tLoss: 0.523740\n",
      "Train Epoch: 1 [59520/60000 (99%)]\tLoss: 0.403169\n",
      "\n",
      "Test set: Avg. loss: 0.1828, Accuracy: 9443/10000 (94%)\n",
      "\n",
      "Train Epoch: 2 [0/60000 (0%)]\tLoss: 0.367069\n",
      "Train Epoch: 2 [640/60000 (1%)]\tLoss: 0.489571\n",
      "Train Epoch: 2 [1280/60000 (2%)]\tLoss: 0.497987\n",
      "Train Epoch: 2 [1920/60000 (3%)]\tLoss: 0.513419\n",
      "Train Epoch: 2 [2560/60000 (4%)]\tLoss: 0.310769\n",
      "Train Epoch: 2 [3200/60000 (5%)]\tLoss: 0.519696\n",
      "Train Epoch: 2 [3840/60000 (6%)]\tLoss: 0.435759\n",
      "Train Epoch: 2 [4480/60000 (7%)]\tLoss: 0.536764\n",
      "Train Epoch: 2 [5120/60000 (9%)]\tLoss: 0.447479\n",
      "Train Epoch: 2 [5760/60000 (10%)]\tLoss: 0.304208\n",
      "Train Epoch: 2 [6400/60000 (11%)]\tLoss: 0.700026\n",
      "Train Epoch: 2 [7040/60000 (12%)]\tLoss: 0.549021\n",
      "Train Epoch: 2 [7680/60000 (13%)]\tLoss: 0.302762\n",
      "Train Epoch: 2 [8320/60000 (14%)]\tLoss: 0.313886\n",
      "Train Epoch: 2 [8960/60000 (15%)]\tLoss: 0.349664\n",
      "Train Epoch: 2 [9600/60000 (16%)]\tLoss: 0.368155\n",
      "Train Epoch: 2 [10240/60000 (17%)]\tLoss: 0.267754\n",
      "Train Epoch: 2 [10880/60000 (18%)]\tLoss: 0.440161\n",
      "Train Epoch: 2 [11520/60000 (19%)]\tLoss: 0.505766\n",
      "Train Epoch: 2 [12160/60000 (20%)]\tLoss: 0.200462\n",
      "Train Epoch: 2 [12800/60000 (21%)]\tLoss: 0.455794\n",
      "Train Epoch: 2 [13440/60000 (22%)]\tLoss: 0.365020\n",
      "Train Epoch: 2 [14080/60000 (23%)]\tLoss: 0.315397\n",
      "Train Epoch: 2 [14720/60000 (25%)]\tLoss: 0.241613\n",
      "Train Epoch: 2 [15360/60000 (26%)]\tLoss: 0.549857\n",
      "Train Epoch: 2 [16000/60000 (27%)]\tLoss: 0.482855\n",
      "Train Epoch: 2 [16640/60000 (28%)]\tLoss: 0.607392\n",
      "Train Epoch: 2 [17280/60000 (29%)]\tLoss: 0.417703\n",
      "Train Epoch: 2 [17920/60000 (30%)]\tLoss: 0.210871\n",
      "Train Epoch: 2 [18560/60000 (31%)]\tLoss: 0.637200\n",
      "Train Epoch: 2 [19200/60000 (32%)]\tLoss: 0.564002\n",
      "Train Epoch: 2 [19840/60000 (33%)]\tLoss: 0.461981\n",
      "Train Epoch: 2 [20480/60000 (34%)]\tLoss: 0.539258\n",
      "Train Epoch: 2 [21120/60000 (35%)]\tLoss: 0.351296\n",
      "Train Epoch: 2 [21760/60000 (36%)]\tLoss: 0.598510\n",
      "Train Epoch: 2 [22400/60000 (37%)]\tLoss: 0.537103\n",
      "Train Epoch: 2 [23040/60000 (38%)]\tLoss: 0.559952\n",
      "Train Epoch: 2 [23680/60000 (39%)]\tLoss: 0.568417\n",
      "Train Epoch: 2 [24320/60000 (41%)]\tLoss: 0.402975\n",
      "Train Epoch: 2 [24960/60000 (42%)]\tLoss: 0.207630\n",
      "Train Epoch: 2 [25600/60000 (43%)]\tLoss: 0.332370\n",
      "Train Epoch: 2 [26240/60000 (44%)]\tLoss: 0.235087\n",
      "Train Epoch: 2 [26880/60000 (45%)]\tLoss: 0.279072\n",
      "Train Epoch: 2 [27520/60000 (46%)]\tLoss: 0.293167\n",
      "Train Epoch: 2 [28160/60000 (47%)]\tLoss: 0.208946\n",
      "Train Epoch: 2 [28800/60000 (48%)]\tLoss: 0.344842\n",
      "Train Epoch: 2 [29440/60000 (49%)]\tLoss: 0.245885\n",
      "Train Epoch: 2 [30080/60000 (50%)]\tLoss: 0.242396\n",
      "Train Epoch: 2 [30720/60000 (51%)]\tLoss: 0.330111\n",
      "Train Epoch: 2 [31360/60000 (52%)]\tLoss: 0.389845\n",
      "Train Epoch: 2 [32000/60000 (53%)]\tLoss: 0.296515\n",
      "Train Epoch: 2 [32640/60000 (54%)]\tLoss: 0.234371\n",
      "Train Epoch: 2 [33280/60000 (55%)]\tLoss: 0.387385\n",
      "Train Epoch: 2 [33920/60000 (57%)]\tLoss: 0.391460\n",
      "Train Epoch: 2 [34560/60000 (58%)]\tLoss: 0.414104\n",
      "Train Epoch: 2 [35200/60000 (59%)]\tLoss: 0.426416\n",
      "Train Epoch: 2 [35840/60000 (60%)]\tLoss: 0.344832\n",
      "Train Epoch: 2 [36480/60000 (61%)]\tLoss: 0.295097\n",
      "Train Epoch: 2 [37120/60000 (62%)]\tLoss: 0.313418\n",
      "Train Epoch: 2 [37760/60000 (63%)]\tLoss: 0.216346\n",
      "Train Epoch: 2 [38400/60000 (64%)]\tLoss: 0.473164\n",
      "Train Epoch: 2 [39040/60000 (65%)]\tLoss: 0.419101\n",
      "Train Epoch: 2 [39680/60000 (66%)]\tLoss: 0.322320\n",
      "Train Epoch: 2 [40320/60000 (67%)]\tLoss: 0.386896\n",
      "Train Epoch: 2 [40960/60000 (68%)]\tLoss: 0.554448\n",
      "Train Epoch: 2 [41600/60000 (69%)]\tLoss: 0.513305\n",
      "Train Epoch: 2 [42240/60000 (70%)]\tLoss: 0.335164\n",
      "Train Epoch: 2 [42880/60000 (71%)]\tLoss: 0.387262\n",
      "Train Epoch: 2 [43520/60000 (72%)]\tLoss: 0.339052\n",
      "Train Epoch: 2 [44160/60000 (74%)]\tLoss: 0.350129\n",
      "Train Epoch: 2 [44800/60000 (75%)]\tLoss: 0.153804\n",
      "Train Epoch: 2 [45440/60000 (76%)]\tLoss: 0.334797\n",
      "Train Epoch: 2 [46080/60000 (77%)]\tLoss: 0.558665\n",
      "Train Epoch: 2 [46720/60000 (78%)]\tLoss: 0.262818\n",
      "Train Epoch: 2 [47360/60000 (79%)]\tLoss: 0.303016\n",
      "Train Epoch: 2 [48000/60000 (80%)]\tLoss: 0.528430\n",
      "Train Epoch: 2 [48640/60000 (81%)]\tLoss: 0.402714\n",
      "Train Epoch: 2 [49280/60000 (82%)]\tLoss: 0.101013\n",
      "Train Epoch: 2 [49920/60000 (83%)]\tLoss: 0.283271\n",
      "Train Epoch: 2 [50560/60000 (84%)]\tLoss: 0.496128\n",
      "Train Epoch: 2 [51200/60000 (85%)]\tLoss: 0.433964\n",
      "Train Epoch: 2 [51840/60000 (86%)]\tLoss: 0.316570\n",
      "Train Epoch: 2 [52480/60000 (87%)]\tLoss: 0.317757\n",
      "Train Epoch: 2 [53120/60000 (88%)]\tLoss: 0.466206\n",
      "Train Epoch: 2 [53760/60000 (90%)]\tLoss: 0.486159\n",
      "Train Epoch: 2 [54400/60000 (91%)]\tLoss: 0.447896\n",
      "Train Epoch: 2 [55040/60000 (92%)]\tLoss: 0.331013\n",
      "Train Epoch: 2 [55680/60000 (93%)]\tLoss: 0.312715\n",
      "Train Epoch: 2 [56320/60000 (94%)]\tLoss: 0.409663\n",
      "Train Epoch: 2 [56960/60000 (95%)]\tLoss: 0.328316\n",
      "Train Epoch: 2 [57600/60000 (96%)]\tLoss: 0.272192\n",
      "Train Epoch: 2 [58240/60000 (97%)]\tLoss: 0.379522\n",
      "Train Epoch: 2 [58880/60000 (98%)]\tLoss: 0.614360\n",
      "Train Epoch: 2 [59520/60000 (99%)]\tLoss: 0.422237\n",
      "\n",
      "Test set: Avg. loss: 0.1250, Accuracy: 9626/10000 (96%)\n",
      "\n",
      "Train Epoch: 3 [0/60000 (0%)]\tLoss: 0.357288\n",
      "Train Epoch: 3 [640/60000 (1%)]\tLoss: 0.205364\n",
      "Train Epoch: 3 [1280/60000 (2%)]\tLoss: 0.334790\n",
      "Train Epoch: 3 [1920/60000 (3%)]\tLoss: 0.284694\n",
      "Train Epoch: 3 [2560/60000 (4%)]\tLoss: 0.149982\n",
      "Train Epoch: 3 [3200/60000 (5%)]\tLoss: 0.346286\n",
      "Train Epoch: 3 [3840/60000 (6%)]\tLoss: 0.531409\n",
      "Train Epoch: 3 [4480/60000 (7%)]\tLoss: 0.293922\n",
      "Train Epoch: 3 [5120/60000 (9%)]\tLoss: 0.224691\n",
      "Train Epoch: 3 [5760/60000 (10%)]\tLoss: 0.519440\n",
      "Train Epoch: 3 [6400/60000 (11%)]\tLoss: 0.459726\n",
      "Train Epoch: 3 [7040/60000 (12%)]\tLoss: 0.250966\n",
      "Train Epoch: 3 [7680/60000 (13%)]\tLoss: 0.242520\n",
      "Train Epoch: 3 [8320/60000 (14%)]\tLoss: 0.152513\n",
      "Train Epoch: 3 [8960/60000 (15%)]\tLoss: 0.315650\n",
      "Train Epoch: 3 [9600/60000 (16%)]\tLoss: 0.238424\n",
      "Train Epoch: 3 [10240/60000 (17%)]\tLoss: 0.443042\n",
      "Train Epoch: 3 [10880/60000 (18%)]\tLoss: 0.397468\n",
      "Train Epoch: 3 [11520/60000 (19%)]\tLoss: 0.287044\n",
      "Train Epoch: 3 [12160/60000 (20%)]\tLoss: 0.276275\n",
      "Train Epoch: 3 [12800/60000 (21%)]\tLoss: 0.422088\n",
      "Train Epoch: 3 [13440/60000 (22%)]\tLoss: 0.464034\n",
      "Train Epoch: 3 [14080/60000 (23%)]\tLoss: 0.458584\n",
      "Train Epoch: 3 [14720/60000 (25%)]\tLoss: 0.420929\n",
      "Train Epoch: 3 [15360/60000 (26%)]\tLoss: 0.308743\n",
      "Train Epoch: 3 [16000/60000 (27%)]\tLoss: 0.351026\n",
      "Train Epoch: 3 [16640/60000 (28%)]\tLoss: 0.283993\n",
      "Train Epoch: 3 [17280/60000 (29%)]\tLoss: 0.390943\n",
      "Train Epoch: 3 [17920/60000 (30%)]\tLoss: 0.249506\n",
      "Train Epoch: 3 [18560/60000 (31%)]\tLoss: 0.224500\n",
      "Train Epoch: 3 [19200/60000 (32%)]\tLoss: 0.455533\n",
      "Train Epoch: 3 [19840/60000 (33%)]\tLoss: 0.194850\n",
      "Train Epoch: 3 [20480/60000 (34%)]\tLoss: 0.282541\n",
      "Train Epoch: 3 [21120/60000 (35%)]\tLoss: 0.323276\n",
      "Train Epoch: 3 [21760/60000 (36%)]\tLoss: 0.397853\n",
      "Train Epoch: 3 [22400/60000 (37%)]\tLoss: 0.164632\n",
      "Train Epoch: 3 [23040/60000 (38%)]\tLoss: 0.409499\n",
      "Train Epoch: 3 [23680/60000 (39%)]\tLoss: 0.173758\n",
      "Train Epoch: 3 [24320/60000 (41%)]\tLoss: 0.203973\n",
      "Train Epoch: 3 [24960/60000 (42%)]\tLoss: 0.269493\n",
      "Train Epoch: 3 [25600/60000 (43%)]\tLoss: 0.231045\n",
      "Train Epoch: 3 [26240/60000 (44%)]\tLoss: 0.314369\n",
      "Train Epoch: 3 [26880/60000 (45%)]\tLoss: 0.313097\n",
      "Train Epoch: 3 [27520/60000 (46%)]\tLoss: 0.435271\n",
      "Train Epoch: 3 [28160/60000 (47%)]\tLoss: 0.277836\n",
      "Train Epoch: 3 [28800/60000 (48%)]\tLoss: 0.240533\n",
      "Train Epoch: 3 [29440/60000 (49%)]\tLoss: 0.391363\n",
      "Train Epoch: 3 [30080/60000 (50%)]\tLoss: 0.286997\n",
      "Train Epoch: 3 [30720/60000 (51%)]\tLoss: 0.310236\n",
      "Train Epoch: 3 [31360/60000 (52%)]\tLoss: 0.357707\n",
      "Train Epoch: 3 [32000/60000 (53%)]\tLoss: 0.230388\n",
      "Train Epoch: 3 [32640/60000 (54%)]\tLoss: 0.646242\n",
      "Train Epoch: 3 [33280/60000 (55%)]\tLoss: 0.192408\n",
      "Train Epoch: 3 [33920/60000 (57%)]\tLoss: 0.348092\n",
      "Train Epoch: 3 [34560/60000 (58%)]\tLoss: 0.197596\n",
      "Train Epoch: 3 [35200/60000 (59%)]\tLoss: 0.241735\n",
      "Train Epoch: 3 [35840/60000 (60%)]\tLoss: 0.205511\n",
      "Train Epoch: 3 [36480/60000 (61%)]\tLoss: 0.224028\n",
      "Train Epoch: 3 [37120/60000 (62%)]\tLoss: 0.343874\n",
      "Train Epoch: 3 [37760/60000 (63%)]\tLoss: 0.381642\n",
      "Train Epoch: 3 [38400/60000 (64%)]\tLoss: 0.186639\n",
      "Train Epoch: 3 [39040/60000 (65%)]\tLoss: 0.119490\n",
      "Train Epoch: 3 [39680/60000 (66%)]\tLoss: 0.217711\n",
      "Train Epoch: 3 [40320/60000 (67%)]\tLoss: 0.267690\n",
      "Train Epoch: 3 [40960/60000 (68%)]\tLoss: 0.308975\n",
      "Train Epoch: 3 [41600/60000 (69%)]\tLoss: 0.274210\n",
      "Train Epoch: 3 [42240/60000 (70%)]\tLoss: 0.264688\n",
      "Train Epoch: 3 [42880/60000 (71%)]\tLoss: 0.331385\n",
      "Train Epoch: 3 [43520/60000 (72%)]\tLoss: 0.283396\n",
      "Train Epoch: 3 [44160/60000 (74%)]\tLoss: 0.258407\n",
      "Train Epoch: 3 [44800/60000 (75%)]\tLoss: 0.163547\n",
      "Train Epoch: 3 [45440/60000 (76%)]\tLoss: 0.238721\n",
      "Train Epoch: 3 [46080/60000 (77%)]\tLoss: 0.350449\n",
      "Train Epoch: 3 [46720/60000 (78%)]\tLoss: 0.238528\n",
      "Train Epoch: 3 [47360/60000 (79%)]\tLoss: 0.325600\n",
      "Train Epoch: 3 [48000/60000 (80%)]\tLoss: 0.224386\n",
      "Train Epoch: 3 [48640/60000 (81%)]\tLoss: 0.179638\n",
      "Train Epoch: 3 [49280/60000 (82%)]\tLoss: 0.282770\n",
      "Train Epoch: 3 [49920/60000 (83%)]\tLoss: 0.192703\n",
      "Train Epoch: 3 [50560/60000 (84%)]\tLoss: 0.483485\n",
      "Train Epoch: 3 [51200/60000 (85%)]\tLoss: 0.318933\n",
      "Train Epoch: 3 [51840/60000 (86%)]\tLoss: 0.154364\n",
      "Train Epoch: 3 [52480/60000 (87%)]\tLoss: 0.363000\n",
      "Train Epoch: 3 [53120/60000 (88%)]\tLoss: 0.329228\n",
      "Train Epoch: 3 [53760/60000 (90%)]\tLoss: 0.335182\n",
      "Train Epoch: 3 [54400/60000 (91%)]\tLoss: 0.372304\n",
      "Train Epoch: 3 [55040/60000 (92%)]\tLoss: 0.379464\n",
      "Train Epoch: 3 [55680/60000 (93%)]\tLoss: 0.220686\n",
      "Train Epoch: 3 [56320/60000 (94%)]\tLoss: 0.302840\n",
      "Train Epoch: 3 [56960/60000 (95%)]\tLoss: 0.109008\n",
      "Train Epoch: 3 [57600/60000 (96%)]\tLoss: 0.159964\n",
      "Train Epoch: 3 [58240/60000 (97%)]\tLoss: 0.363652\n",
      "Train Epoch: 3 [58880/60000 (98%)]\tLoss: 0.476117\n",
      "Train Epoch: 3 [59520/60000 (99%)]\tLoss: 0.320661\n",
      "\n",
      "Test set: Avg. loss: 0.0931, Accuracy: 9715/10000 (97%)\n",
      "\n"
     ]
    }
   ],
   "source": [
    "# Train\n",
    "for epoch in range(1, n_epochs + 1):\n",
    "    train(epoch)\n",
    "    test()"
   ]
  },
  {
   "cell_type": "markdown",
   "metadata": {},
   "source": [
    "## Evaluating the Model's Performance"
   ]
  },
  {
   "cell_type": "code",
   "execution_count": 48,
   "metadata": {},
   "outputs": [
    {
     "data": {
      "text/plain": [
       "Text(0, 0.5, 'negative log likelihood loss')"
      ]
     },
     "execution_count": 48,
     "metadata": {},
     "output_type": "execute_result"
    },
    {
     "data": {
      "image/png": "[encoded data removed]",
      "text/plain": [
       "<Figure size 640x480 with 1 Axes>"
      ]
     },
     "metadata": {},
     "output_type": "display_data"
    }
   ],
   "source": [
    "fig = plt.figure()\n",
    "plt.plot(train_counter, train_losses, color='blue')\n",
    "plt.scatter(test_counter, test_losses, color='red')\n",
    "plt.legend(['Train Loss', 'Test Loss'], loc='upper right')\n",
    "plt.xlabel('number of training examples seen')\n",
    "plt.ylabel('negative log likelihood loss')\n",
    "# fig"
   ]
  }
 ],
 "metadata": {
  "kernelspec": {
   "display_name": "segmentationMonailLabel",
   "language": "python",
   "name": "python3"
  },
  "language_info": {
   "codemirror_mode": {
    "name": "ipython",
    "version": 3
   },
   "file_extension": ".py",
   "mimetype": "text/x-python",
   "name": "python",
   "nbconvert_exporter": "python",
   "pygments_lexer": "ipython3",
   "version": "3.10.4"
  }
 },
 "nbformat": 4,
 "nbformat_minor": 2
}
